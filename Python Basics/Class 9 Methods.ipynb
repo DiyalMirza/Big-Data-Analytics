{
 "cells": [
  {
   "cell_type": "code",
   "execution_count": 63,
   "id": "f1fa1f13-7b85-4a92-a1dd-b3de90c4afc7",
   "metadata": {},
   "outputs": [
    {
     "name": "stdin",
     "output_type": "stream",
     "text": [
      "Enter the first number:  33\n",
      "Enter the second number:  45\n"
     ]
    },
    {
     "name": "stdout",
     "output_type": "stream",
     "text": [
      "Result: 78\n"
     ]
    }
   ],
   "source": [
    "a = 3\n",
    "b = 5\n",
    "\n",
    "def Sum(a, b):\n",
    "    res = a + b\n",
    "    return res\n",
    "\n",
    "n1 = int(input(\"Enter the first number: \"))\n",
    "n2 = int(input(\"Enter the second number: \"))\n",
    "c= Sum(n1,n2)\n",
    "print(f\"Result: {c}\")"
   ]
  },
  {
   "cell_type": "code",
   "execution_count": 65,
   "id": "52107ab7-08d5-44d9-a6bf-9c1004158e5f",
   "metadata": {},
   "outputs": [
    {
     "name": "stdout",
     "output_type": "stream",
     "text": [
      "The sum of 5 and 10 is 50.\n"
     ]
    }
   ],
   "source": [
    "a = 5\n",
    "b = 10\n",
    "\n",
    "# Using an f-string to include the calculation directly\n",
    "print(f\"The sum of {a} and {b} is {a * b}.\")"
   ]
  },
  {
   "cell_type": "code",
   "execution_count": 71,
   "id": "1e5bd819-79e2-4a2a-b6a5-c5a3857e5697",
   "metadata": {},
   "outputs": [
    {
     "name": "stdin",
     "output_type": "stream",
     "text": [
      "Enter the first number:  34\n",
      "Enter the second number:  56\n",
      "Enter the Operartor:  +\n"
     ]
    },
    {
     "name": "stdout",
     "output_type": "stream",
     "text": [
      "Result: 90\n"
     ]
    }
   ],
   "source": [
    "a = 3\n",
    "b = 5\n",
    "\n",
    "def Calc(a, b, Op):\n",
    "    res = a + b\n",
    "    return res\n",
    "\n",
    "n1 = int(input(\"Enter the first number: \"))\n",
    "n2 = int(input(\"Enter the second number: \"))\n",
    "o = input(\"Enter the Operartor: \")\n",
    "c= Calc(n1,n2, o)\n",
    "print(f\"Result: {c}\")"
   ]
  },
  {
   "cell_type": "code",
   "execution_count": 69,
   "id": "26aeb3a8-7b65-4a05-b1e5-03b749d14a68",
   "metadata": {},
   "outputs": [
    {
     "name": "stdin",
     "output_type": "stream",
     "text": [
      "Enter the first number:  33\n",
      "Enter the second number:  45\n",
      "Enter the operator (+, -):  +\n"
     ]
    },
    {
     "name": "stdout",
     "output_type": "stream",
     "text": [
      "Result: 78\n"
     ]
    }
   ],
   "source": [
    "def Calc(a, b, Op):\n",
    "    if Op == '+':\n",
    "        res = a + b\n",
    "    elif Op == '-':\n",
    "        res = a - b\n",
    "    else:\n",
    "        res = \"Invalid operator!\"\n",
    "    return res\n",
    "\n",
    "\n",
    "n1 = int(input(\"Enter the first number: \"))\n",
    "n2 = int(input(\"Enter the second number: \"))\n",
    "o = input(\"Enter the operator (+, -): \")\n",
    "\n",
    "result = Calc(n1, n2, o)\n",
    "print(f\"Result: {result}\")\n"
   ]
  },
  {
   "cell_type": "code",
   "execution_count": 33,
   "id": "f54f5a35-80a5-4c7d-9ffd-9fae2143d76e",
   "metadata": {},
   "outputs": [
    {
     "name": "stdin",
     "output_type": "stream",
     "text": [
      "Enter Marks:  85\n"
     ]
    },
    {
     "name": "stdout",
     "output_type": "stream",
     "text": [
      "Result: B\n"
     ]
    }
   ],
   "source": [
    "def Grade(Marks):\n",
    "    if Marks >= 87:\n",
    "        res = \"A\"\n",
    "    elif Marks >= 78:\n",
    "        res = \"B\"\n",
    "    else:\n",
    "        res = \"Invalid value!\"\n",
    "    return res\n",
    "\n",
    "\n",
    "M = float(input(\"Enter Marks: \"))\n",
    "c = Grade(M)\n",
    "\n",
    "print(f\"Result: {c}\")\n"
   ]
  },
  {
   "cell_type": "code",
   "execution_count": 35,
   "id": "4b3f22c4-bad4-4dfa-bf7c-35788efa7fe7",
   "metadata": {},
   "outputs": [
    {
     "name": "stdin",
     "output_type": "stream",
     "text": [
      "Enter Marks:  33\n"
     ]
    },
    {
     "name": "stdout",
     "output_type": "stream",
     "text": [
      "Result: Invalid value!\n"
     ]
    }
   ],
   "source": [
    "Lst = [22,25,8,15,29]\n",
    "Sm = Lst[0]\n",
    "for i in Lst:\n",
    "    Sm = Sm + i\n",
    "\n",
    "M = float(input(\"Enter Marks: \"))\n",
    "c = Grade(M)\n",
    "\n",
    "print(f\"Result: {c}\")\n"
   ]
  },
  {
   "cell_type": "code",
   "execution_count": 39,
   "id": "28cb131c-2662-4beb-9ee5-33d1277875ca",
   "metadata": {},
   "outputs": [
    {
     "name": "stdout",
     "output_type": "stream",
     "text": [
      "Sum of the elements in the list: 99\n"
     ]
    }
   ],
   "source": [
    "\n",
    "Lst = [22, 25, 8, 15, 29]\n",
    "Sm = 0\n",
    "for i in Lst:\n",
    "    Sm = Sm + i\n",
    "\n",
    "print(f\"Sum of the elements in the list: {Sm}\")\n"
   ]
  },
  {
   "cell_type": "code",
   "execution_count": null,
   "id": "e38463cd-608a-4341-8878-8a71d6d35633",
   "metadata": {},
   "outputs": [],
   "source": [
    "def Total(Lst):\n",
    "    Sm = Lst[0]\n",
    "    for i in Lst:\n",
    "        Sm = Sm + i\n",
    "\n",
    "return Sm\n"
   ]
  },
  {
   "cell_type": "code",
   "execution_count": 43,
   "id": "ce58b495-b049-434e-989a-79fa0320d2e6",
   "metadata": {},
   "outputs": [],
   "source": [
    "def celsius_to_fahrenheit(celsius):\n",
    "    return (celsius * 9/5) + 32\n"
   ]
  },
  {
   "cell_type": "code",
   "execution_count": 55,
   "id": "efb27077-0a34-4959-b656-e57aa578b06c",
   "metadata": {},
   "outputs": [
    {
     "name": "stdin",
     "output_type": "stream",
     "text": [
      "Enter temperature in Celsius:  66\n"
     ]
    },
    {
     "name": "stdout",
     "output_type": "stream",
     "text": [
      "Fahrenheit Temperature: 150.80\n"
     ]
    }
   ],
   "source": [
    "celsius = float(input(\"Enter temperature in Celsius: \"))\n",
    "fahrenheit = celsius_to_fahrenheit(celsius)\n",
    "\n",
    "print(f\"Fahrenheit Temperature: {fahrenheit:.2f}\")"
   ]
  },
  {
   "cell_type": "code",
   "execution_count": 57,
   "id": "24eacc34-0115-40bf-92b2-79b7c0dc950c",
   "metadata": {},
   "outputs": [],
   "source": [
    "def fahrenheit_to_celsius(fahrenheit):\n",
    "    return (fahrenheit - 32) * 5/9"
   ]
  },
  {
   "cell_type": "code",
   "execution_count": 61,
   "id": "9c5dde30-2322-4be6-bbdc-e20839f4627f",
   "metadata": {},
   "outputs": [
    {
     "name": "stdin",
     "output_type": "stream",
     "text": [
      "Enter temperature in Fahreheit:  44\n"
     ]
    },
    {
     "name": "stdout",
     "output_type": "stream",
     "text": [
      "Fahrenheit Temperature: 6.67\n"
     ]
    }
   ],
   "source": [
    "fahrenheit = float(input(\"Enter temperature in Fahreheit: \"))\n",
    "celsius = fahrenheit_to_celsius(fahrenheit)\n",
    "\n",
    "print(f\"Fahrenheit Temperature: {celsius:.2f}\")"
   ]
  },
  {
   "cell_type": "code",
   "execution_count": null,
   "id": "bcd54cb9-ec2c-4e2e-a951-305db2e7f22b",
   "metadata": {},
   "outputs": [],
   "source": []
  }
 ],
 "metadata": {
  "kernelspec": {
   "display_name": "Python 3 (ipykernel)",
   "language": "python",
   "name": "python3"
  },
  "language_info": {
   "codemirror_mode": {
    "name": "ipython",
    "version": 3
   },
   "file_extension": ".py",
   "mimetype": "text/x-python",
   "name": "python",
   "nbconvert_exporter": "python",
   "pygments_lexer": "ipython3",
   "version": "3.12.4"
  }
 },
 "nbformat": 4,
 "nbformat_minor": 5
}
